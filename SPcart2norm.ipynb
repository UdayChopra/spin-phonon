{
 "cells": [
  {
   "cell_type": "code",
   "execution_count": 1,
   "metadata": {},
   "outputs": [],
   "source": [
    "import numpy as np\n",
    "import scipy.constants as sc\n",
    "import matplotlib.pyplot as plt\n",
    "from ase.io import read\n",
    "import nwchem_nmode_parser as nmode\n",
    "import nwchem_movecs_parser as nwcparse\n",
    "import os\n",
    "import nwchem_zora_parser as zora\n",
    "# import importlib\n"
   ]
  },
  {
   "cell_type": "code",
   "execution_count": 2,
   "metadata": {},
   "outputs": [
    {
     "data": {
      "text/plain": [
       "'/mnt/Data/uday/work/isr/nwchem/dntt/spinphonon/dnss'"
      ]
     },
     "execution_count": 2,
     "metadata": {},
     "output_type": "execute_result"
    }
   ],
   "source": [
    "# os.chdir(\"../\")\n",
    "os.getcwd()"
   ]
  },
  {
   "cell_type": "code",
   "execution_count": 3,
   "metadata": {},
   "outputs": [],
   "source": [
    "nm = nmode.ReadNmode('./0.02/NMODE_mw.nmode')\n",
    "cminToeV = sc.h * sc.c * 100 / sc.e \n",
    "muB = sc.physical_constants['Bohr magneton in eV/T'][0]\n",
    "delta = 1 * cminToeV\n"
   ]
  },
  {
   "cell_type": "code",
   "execution_count": 4,
   "metadata": {},
   "outputs": [
    {
     "data": {
      "text/plain": [
       "array([ 19,  20,  28,  29,  35,  36,  37,  38,  41,  42,  43,  47,  48,\n",
       "        51,  52,  53,  54,  56,  57,  59,  60,  63,  64,  67,  68,  82,\n",
       "        83,  84,  85,  88,  89,  90,  91,  92,  93,  94,  95,  96,  97,\n",
       "        98,  99, 100, 101])"
      ]
     },
     "execution_count": 4,
     "metadata": {},
     "output_type": "execute_result"
    }
   ],
   "source": [
    "vibEval = nm.vibEval[6:]\n",
    "\n",
    "vibInd=[]; \n",
    "Ez = [0.3 * 2 * muB]\n",
    "for m in Ez:\n",
    "#     b.extend( [[ind, jind] for ind, i in enumerate(vibEval) for jind, j in enumerate(vibEval) if [jind,ind] not in b and [ind,jind] and abs((j-i)-m) < delta and i != j  ])\n",
    "    vibInd.extend( [[ind, jind] for ind, i in enumerate(vibEval) for jind, j in enumerate(vibEval) if abs(abs(j-i)-m) < delta and i!=j ] )\n",
    "\n",
    "# vibInd=np.array(list(set(tuple(i) for i in b)))#.flatten()\n",
    "del vibInd[1::2]\n",
    "# vibInd = np.array(b)\n",
    "vibInd = np.array(vibInd)\n",
    "l = np.array(tuple(set(vibInd.flatten())))\n",
    "\n",
    "l"
   ]
  },
  {
   "cell_type": "code",
   "execution_count": 5,
   "metadata": {},
   "outputs": [],
   "source": [
    "def SOCBasisTransform(mov,zora,PTO=1):\n",
    "    psia = np.matrix(mov.psia); psib = np.matrix(mov.psib)\n",
    "    Lx = zora.get(\"so_x\"); Ly = zora.get(\"so_y\"); Lz = zora.get(\"so_z\")\n",
    "    L_plus = Lx + 1j*Ly; L_minus = Lx - 1j*Ly\n",
    "    H_ud = np.matmul(psia.getH(),np.matmul(L_minus,psib))\n",
    "    H_uu = np.matmul(psia.getH(),np.matmul(Lz,psia))\n",
    "    if PTO==2:\n",
    "        return np.array([H_uu,H_ud])\n",
    "    else:\n",
    "        return (H_ud)\n",
    "    \n",
    "def calc_spinphononCART(d,PTO=2):\n",
    "    xyz = read('vib.eq.xyz')\n",
    "    nat = xyz.get_number_of_atoms()\n",
    "    spinphononcart=[]\n",
    "    if PTO==2:\n",
    "        for a in range(nat):\n",
    "            for i in 'xyz':\n",
    "                zora_f = zora.read_nwchem_zora('vib.'+str(a)+str(i)+'+_sodft.zora_so')\n",
    "                movecs_f = nwcparse.read('vib.'+str(a)+str(i)+'+_dft.movecs')\n",
    "                soc_f = SOCBasisTransform(movecs_f,zora_f,PTO=2)\n",
    "                zora_b = zora.read_nwchem_zora('vib.'+str(a)+str(i)+'-_sodft.zora_so')\n",
    "                movecs_b = nwcparse.read('vib.'+str(a)+str(i)+'-_dft.movecs')\n",
    "                soc_b = SOCBasisTransform(movecs_b,zora_b,PTO=2)\n",
    "                sp = 0.5 * (soc_f - soc_b) / d\n",
    "                spinphononcart.append(sp)\n",
    "        spinphononcart = np.array(spinphononcart)\n",
    "    np.save('SP_cart.npy',spinphononcart)\n",
    "\n",
    "    \n",
    "def spcart2norm(spcart):\n",
    "    xyz = read('vib.eq.xyz')\n",
    "    m = xyz.get_masses()\n",
    "    nat = xyz.get_number_of_atoms()\n",
    "    nm = nmode.ReadNmode('NMODE_mw.nmode')\n",
    "    amu=sc.physical_constants['atomic mass constant'][0]\n",
    "    evtoHz = sc.physical_constants['electron volt-hertz relationship'][0]\n",
    "    HtoeV = sc.physical_constants['Hartree energy in eV'][0]\n",
    "    vibEval = nm.vibEval\n",
    "    vibEvec = np.reshape(nm.vibEvec,(nat*3,nat,3))\n",
    "    nmo = 884\n",
    "    spnorm = np.zeros((3*nat,2,nmo,nmo),dtype=np.complex128)\n",
    "    spcart = np.reshape(spcart,(nat,3,2,nmo,nmo))\n",
    "    \n",
    "    for l in range(3*nat):\n",
    "        for a in range(nat):\n",
    "            for i in range(3):\n",
    "                spnorm[l] += spcart[a,i] * vibEvec[l,a,i] * np.sqrt(sc.hbar/(2*m[a]*amu*vibEval[l]*evtoHz)) * 1e10 * HtoeV\n",
    "        np.save('SP_norm.npy',spnorm)\n",
    "    return spnorm\n",
    "    "
   ]
  },
  {
   "cell_type": "code",
   "execution_count": 20,
   "metadata": {},
   "outputs": [
    {
     "data": {
      "text/plain": [
       "'/mnt/Data/uday/work/isr/nwchem/dntt/spinphonon/dnss'"
      ]
     },
     "execution_count": 20,
     "metadata": {},
     "output_type": "execute_result"
    }
   ],
   "source": [
    "os.chdir(\"../\")\n",
    "os.getcwd()"
   ]
  },
  {
   "cell_type": "code",
   "execution_count": 21,
   "metadata": {},
   "outputs": [
    {
     "name": "stdout",
     "output_type": "stream",
     "text": [
      "0.02\n"
     ]
    }
   ],
   "source": [
    "# disp = [0.005,0.006,0.007,0.008,0.009,0.01,0.02,0.03,0.04,0.05]\n",
    "# disp = [0.006,0.008,0.02,0.04]\n",
    "disp = [0.02]\n",
    "path = os.getcwd()+\"/\"\n",
    "\n",
    "spnormdisp=[]\n",
    "for i in disp:\n",
    "    print(i)\n",
    "    subdir = path + str(i)\n",
    "    os.chdir(subdir)\n",
    "    if not os.path.isfile('SP_cart.npy'):\n",
    "        calc_spinphononCART(d=i,PTO=2) \n",
    "        spnorm=spcart2norm(np.load('SP_cart.npy'))\n",
    "    elif not os.path.isfile('SP_norm.npy'):\n",
    "        spnorm = spcart2norm(np.load('SP_cart.npy'))\n",
    "    else:\n",
    "        spnorm = np.load('SP_norm.npy')\n",
    "    spnormdisp.append(spnorm[6:])\n"
   ]
  },
  {
   "cell_type": "code",
   "execution_count": 22,
   "metadata": {},
   "outputs": [],
   "source": [
    "spnormdisp = np.array(spnormdisp)\n",
    "np.save('spnorm_disp.npy',spnormdisp)"
   ]
  },
  {
   "cell_type": "code",
   "execution_count": 23,
   "metadata": {},
   "outputs": [
    {
     "data": {
      "text/plain": [
       "array([ 19,  20,  28,  29,  35,  36,  37,  38,  41,  42,  42,  41,  43,\n",
       "        41,  47,  48,  51,  52,  53,  54,  56,  57,  59,  60,  63,  64,\n",
       "        67,  68,  82,  83,  84,  85,  88,  89,  90,  91,  92,  93,  94,\n",
       "        95,  96,  97,  98,  99, 100, 101])"
      ]
     },
     "execution_count": 23,
     "metadata": {},
     "output_type": "execute_result"
    }
   ],
   "source": [
    "l = np.array((vibInd)).flatten()\n",
    "l"
   ]
  },
  {
   "cell_type": "code",
   "execution_count": 7,
   "metadata": {},
   "outputs": [],
   "source": [
    "spnormdisp = np.load('spnorm_disp.npy')"
   ]
  },
  {
   "cell_type": "code",
   "execution_count": 8,
   "metadata": {},
   "outputs": [
    {
     "data": {
      "text/plain": [
       "(1, 102, 2, 884, 884)"
      ]
     },
     "execution_count": 8,
     "metadata": {},
     "output_type": "execute_result"
    }
   ],
   "source": [
    "np.shape(spnormdisp)"
   ]
  },
  {
   "cell_type": "code",
   "execution_count": 9,
   "metadata": {},
   "outputs": [],
   "source": [
    "disp=[0.02]\n",
    "spph = []\n",
    "for i in range(np.size(disp)):\n",
    "    dictspph = {}\n",
    "    for j in l:\n",
    "        dictspph[j] = spnormdisp[i,j]\n",
    "    spph.append(dictspph)"
   ]
  },
  {
   "cell_type": "code",
   "execution_count": 6,
   "metadata": {},
   "outputs": [
    {
     "data": {
      "text/plain": [
       "array([ 50, 100, 150, 200, 250, 300, 350, 400])"
      ]
     },
     "execution_count": 6,
     "metadata": {},
     "output_type": "execute_result"
    }
   ],
   "source": [
    "mov =  nwcparse.read('vib.eq_dft.movecs')\n",
    "pi = sc.pi; \n",
    "hbar = sc.physical_constants['Planck constant over 2 pi in eV s'][0]\n",
    "HtoeV = sc.physical_constants['Hartree energy in eV'][0]\n",
    "cminToeV = sc.h * sc.c * 100 / sc.e \n",
    "vibEval = nm.vibEval[6:] \n",
    "kB = sc.physical_constants['Boltzmann constant in eV/K'][0]\n",
    "amu = sc.physical_constants['atomic mass constant'][0]\n",
    "freq = sc.physical_constants['electron volt-hertz relationship'][0]\n",
    "delta = 1 * cminToeV #Broadening for finding resonant modes\n",
    "elEvalU = mov.evalsa * HtoeV\n",
    "elEvalD = mov.evalsb * HtoeV\n",
    "idxHomo = mov.homo_index[0]\n",
    "elEvalDiff = (mov.evalsa[:] - mov.evalsa[idxHomo]) * HtoeV\n",
    "\n",
    "gauss   = lambda fwhm,E : (1/(fwhm*np.sqrt(2*pi))) * np.exp(-(E**2/(2*fwhm**2))) # for gaussian fwhm = sig*(2*np.sqrt(2*np.log(2)))\n",
    "lorentz = lambda fwhm,E : (1/pi) * (0.5*fwhm)/(E**2 + (0.5*fwhm)**2)\n",
    "bose    = lambda E, T   : 1/(np.exp(E/(kB*T))-1)\n",
    "mu = (14*12.0107**-1 + 2*32.065**-1 + 8*1.00794**-1)**-1 # reduced mass\n",
    "muB = sc.physical_constants['Bohr magneton in eV/T'][0]\n",
    "temp = np.arange(50,450,50)\n",
    "homoInd = 61\n",
    "Ez = [0.400 * 2 * muB]\n",
    "temp"
   ]
  },
  {
   "cell_type": "code",
   "execution_count": 26,
   "metadata": {},
   "outputs": [],
   "source": [
    "t1_disp=[]\n",
    "# for j in range(10):\n",
    "for i in range(np.size(disp)):\n",
    "    dictSpPh = spph[i]\n",
    "    t1=[]\n",
    "    for t in temp:\n",
    "        rate_ae = 0; rate_ea = 0\n",
    "        for i in vibInd:\n",
    "            M = np.matmul(dictSpPh[i[0]][0,idxHomo,idxHomo+1:]/elEvalDiff[idxHomo+1:], dictSpPh[i[1]][1,idxHomo+1:,idxHomo]) + \\\n",
    "                np.matmul(dictSpPh[i[0]][1,idxHomo,idxHomo+1:]/elEvalDiff[idxHomo+1:], dictSpPh[i[1]][0,idxHomo+1:,idxHomo])\n",
    "            rate_ae += (2*pi/hbar) * (bose(vibEval[i[0]],t)) * (bose(vibEval[i[1]],t)+1) * gauss(1*cminToeV,vibEval[i[1]]-vibEval[i[0]] - Ez[0]) * \\\n",
    "                (M * M.conj()) \n",
    "            M = np.matmul(dictSpPh[i[0]][0,idxHomo,:idxHomo]/elEvalDiff[:idxHomo], dictSpPh[i[1]][1,:idxHomo,idxHomo]) + \\\n",
    "                np.matmul(dictSpPh[i[0]][1,idxHomo,:idxHomo]/elEvalDiff[:idxHomo], dictSpPh[i[1]][0,:idxHomo,idxHomo])\n",
    "            rate_ea += (2*pi/hbar) * (bose(vibEval[i[0]],t)+1) * (bose(vibEval[i[1]],t)) * gauss(1*cminToeV,vibEval[i[1]]-vibEval[i[0]] - Ez[0]) * \\\n",
    "                (M * M.conj()) \n",
    "        t1.append((rate_ea+rate_ae)**-1)\n",
    "    t1_disp.append(t1)"
   ]
  },
  {
   "cell_type": "code",
   "execution_count": 27,
   "metadata": {},
   "outputs": [
    {
     "data": {
      "text/plain": [
       "(array([3.88043226e-03+0.j, 7.18135092e-07+0.j, 3.93334845e-08+0.j,\n",
       "        9.00087577e-09+0.j, 3.61596614e-09+0.j, 1.91543526e-09+0.j,\n",
       "        1.18640392e-09+0.j, 8.10231564e-10+0.j]),\n",
       " array([ 50, 100, 150, 200, 250, 300, 350, 400]))"
      ]
     },
     "execution_count": 27,
     "metadata": {},
     "output_type": "execute_result"
    }
   ],
   "source": [
    "t1_disp = np.array(t1_disp)\n",
    "t1_disp[0],temp\n",
    "\n"
   ]
  },
  {
   "cell_type": "code",
   "execution_count": 43,
   "metadata": {},
   "outputs": [],
   "source": [
    "t1dat=np.vstack((temp,t1_disp[0]))\n",
    "t1dat[0]\n",
    "np.save('t1_dnss',t1dat)"
   ]
  },
  {
   "cell_type": "code",
   "execution_count": 39,
   "metadata": {},
   "outputs": [
    {
     "data": {
      "text/plain": [
       "array([1.e-07])"
      ]
     },
     "execution_count": 39,
     "metadata": {},
     "output_type": "execute_result"
    }
   ],
   "source": [
    "exp = np.repeat(1e-7,np.size(disp))\n",
    "exp"
   ]
  },
  {
   "cell_type": "code",
   "execution_count": 47,
   "metadata": {},
   "outputs": [
    {
     "data": {
      "application/vnd.jupyter.widget-view+json": {
       "model_id": "5f0a0f354be245198e348dc6b9dc2b56",
       "version_major": 2,
       "version_minor": 0
      },
      "text/plain": [
       "Canvas(toolbar=Toolbar(toolitems=[('Home', 'Reset original view', 'home', 'home'), ('Back', 'Back to previous …"
      ]
     },
     "metadata": {},
     "output_type": "display_data"
    },
    {
     "name": "stderr",
     "output_type": "stream",
     "text": [
      "/home/uday/.local/lib/python3.5/site-packages/numpy/core/_asarray.py:85: ComplexWarning: Casting complex values to real discards the imaginary part\n",
      "  return array(a, dtype, copy=False, order=order)\n"
     ]
    }
   ],
   "source": [
    "%matplotlib widget\n",
    "plt.title(r'B = 400 mT')\n",
    "\n",
    "plt.xlabel(r'$\\Delta$ Q [A]')\n",
    "plt.ylabel(r'$T_1$ [s]')\n",
    "plt.ylim(1e-7,1e-5)\n",
    "plt.plot(disp,exp,label='exp')\n",
    "plt.semilogy(disp,t1_disp[:,6],'.-',label='theory')\n",
    "plt.legend()\n",
    "plt.savefig('T1_disp_dntt.pdf')"
   ]
  },
  {
   "cell_type": "code",
   "execution_count": 44,
   "metadata": {},
   "outputs": [
    {
     "data": {
      "application/vnd.jupyter.widget-view+json": {
       "model_id": "9459a4aedff94fcab442b9da0036c8f5",
       "version_major": 2,
       "version_minor": 0
      },
      "text/plain": [
       "Canvas(toolbar=Toolbar(toolitems=[('Home', 'Reset original view', 'home', 'home'), ('Back', 'Back to previous …"
      ]
     },
     "metadata": {},
     "output_type": "display_data"
    },
    {
     "name": "stderr",
     "output_type": "stream",
     "text": [
      "/home/uday/.local/lib/python3.5/site-packages/numpy/core/_asarray.py:85: ComplexWarning: Casting complex values to real discards the imaginary part\n",
      "  return array(a, dtype, copy=False, order=order)\n"
     ]
    }
   ],
   "source": [
    "%matplotlib widget\n",
    "# for i in range(6):\n",
    "x=[300];y = [1e-7]\n",
    "plt.title(r'DNSS; B = 400 mT')\n",
    "plt.xlabel(r'Temp [K]')\n",
    "plt.ylabel(r'$T_1$ [s]')\n",
    "# plt.xlim(140,420)\n",
    "# plt.ylim(1e-7,3e-4)\n",
    "plt.semilogy(temp,t1_disp[0],'.-',label='theory')\n",
    "plt.plot(x,y,'.',label='exp',color='red')\n",
    "plt.legend()\n",
    "plt.savefig('T1_temp_dntt.pdf')"
   ]
  },
  {
   "cell_type": "code",
   "execution_count": 23,
   "metadata": {},
   "outputs": [],
   "source": [
    "sp = np.load('./SP_norm.npy')[6:]"
   ]
  },
  {
   "cell_type": "code",
   "execution_count": 26,
   "metadata": {},
   "outputs": [],
   "source": [
    "dictSpPh = {}\n",
    "for j in l:\n",
    "    dictSpPh[j] = sp[j]\n",
    "    \n",
    "rate_ae = []; rate_ea = []\n",
    "evtocmInv = 1/cminToeV\n",
    "\n",
    "for i in vibInd:\n",
    "    M = np.matmul(dictSpPh[i[0]][0,idxHomo,idxHomo+1:]/elEvalDiff[idxHomo+1:], dictSpPh[i[1]][1,idxHomo+1:,idxHomo]) + \\\n",
    "        np.matmul(dictSpPh[i[0]][1,idxHomo,idxHomo+1:]/elEvalDiff[idxHomo+1:], dictSpPh[i[1]][0,idxHomo+1:,idxHomo])\n",
    "    rate_ae.append(M * M.conj() * evtocmInv)\n",
    "    M = np.matmul(dictSpPh[i[0]][0,idxHomo,:idxHomo]/elEvalDiff[:idxHomo], dictSpPh[i[1]][1,:idxHomo,idxHomo]) + \\\n",
    "        np.matmul(dictSpPh[i[0]][1,idxHomo,:idxHomo]/elEvalDiff[:idxHomo], dictSpPh[i[1]][0,:idxHomo,idxHomo])\n",
    "    rate_ea.append(M * M.conj() * evtocmInv)\n",
    "\n",
    "vibInd = np.array(vibInd)\n",
    "veval  = [vibEval[i] for i in vibInd[:,0]]"
   ]
  },
  {
   "cell_type": "code",
   "execution_count": 29,
   "metadata": {},
   "outputs": [
    {
     "data": {
      "application/vnd.jupyter.widget-view+json": {
       "model_id": "78500bbd7ff74fe8bea6a8b3fd9ee822",
       "version_major": 2,
       "version_minor": 0
      },
      "text/plain": [
       "Canvas(toolbar=Toolbar(toolitems=[('Home', 'Reset original view', 'home', 'home'), ('Back', 'Back to previous …"
      ]
     },
     "metadata": {},
     "output_type": "display_data"
    },
    {
     "name": "stderr",
     "output_type": "stream",
     "text": [
      "/home/uday/.local/lib/python3.5/site-packages/matplotlib/transforms.py:827: ComplexWarning: Casting complex values to real discards the imaginary part\n",
      "  points = np.array(args, dtype=float).reshape(2, 2)\n",
      "/home/uday/.local/lib/python3.5/site-packages/matplotlib/transforms.py:2010: ComplexWarning: Casting complex values to real discards the imaginary part\n",
      "  x, y = float(x), float(y)\n",
      "/home/uday/.local/lib/python3.5/site-packages/matplotlib/transforms.py:954: ComplexWarning: Casting complex values to real discards the imaginary part\n",
      "  self._points[:, 1] = interval\n"
     ]
    }
   ],
   "source": [
    "\n",
    "%matplotlib widget\n",
    "\n",
    "fig, ax = plt.subplots()\n",
    "width=0.002\n",
    "\n",
    "ax.set_yscale('log')\n",
    "ax.set_ylim(1e-12,1e-4)\n",
    "ax.set_xlim(-0.01,0.42)\n",
    "ax.set_ylabel(r'|M$^{sp}|^2$  [cm$^{-2}$]')\n",
    "ax.set_xlabel('Phonon Energy [eV]')\n",
    "ax.set_title('DNSS')\n",
    "\n",
    "ax.bar(veval, rate_ae, width, label='AE')\n",
    "ax.bar(veval, rate_ea, width, bottom=rate_ae, label='EA')\n",
    "\n",
    "plt.savefig('DNSS_matrix.pdf')"
   ]
  },
  {
   "cell_type": "code",
   "execution_count": 31,
   "metadata": {},
   "outputs": [
    {
     "data": {
      "text/plain": [
       "(1, 102, 2, 884, 884)"
      ]
     },
     "execution_count": 31,
     "metadata": {},
     "output_type": "execute_result"
    }
   ],
   "source": [
    "np.shape(spnormdisp)"
   ]
  },
  {
   "cell_type": "code",
   "execution_count": 9,
   "metadata": {},
   "outputs": [],
   "source": [
    "def calc_t1(disp,delta): # delta in cminv \n",
    "    broad = delta * cminToeV\n",
    "    vibInd=[]; \n",
    "    Ez = [0.3 * 2 * muB]\n",
    "#     for m in Ez:\n",
    "#         vibInd.extend( [[ind, jind] for ind, i in enumerate(vibEval) for jind, j in enumerate(vibEval) if abs(abs(j-i)-m) < broad and i!=j ] )\n",
    "    vibInd = np.array([[ind,jind] for ind,i in enumerate(vibEval) for jind, j in enumerate(vibEval) if jind > ind])\n",
    "#     del vibInd[1::2]\n",
    "    vibInd = np.array(vibInd)\n",
    "    l = np.array(tuple(set(vibInd.flatten())))\n",
    "    spph = []\n",
    "    for i in range(np.size(disp)):\n",
    "        dictspph = {}\n",
    "        for j in l:\n",
    "            dictspph[j] = spnormdisp[i,j]\n",
    "        spph.append(dictspph)\n",
    "        t1_disp=[]\n",
    "    # for j in range(10):\n",
    "    for i in range(np.size(disp)):\n",
    "        dictSpPh = spph[i]\n",
    "        t1=[]\n",
    "        for t in temp:\n",
    "            rate_ae = 0; rate_ea = 0\n",
    "            for i in vibInd:\n",
    "                M = np.matmul(dictSpPh[i[0]][0,idxHomo,idxHomo+1:]/elEvalDiff[idxHomo+1:], dictSpPh[i[1]][1,idxHomo+1:,idxHomo]) + \\\n",
    "                    np.matmul(dictSpPh[i[0]][1,idxHomo,idxHomo+1:]/elEvalDiff[idxHomo+1:], dictSpPh[i[1]][0,idxHomo+1:,idxHomo])\n",
    "                rate_ae += (2*pi/hbar) * (bose(vibEval[i[0]],t)) * (bose(vibEval[i[1]],t)+1) * gauss(broad,vibEval[i[1]]-vibEval[i[0]] - Ez[0]) * \\\n",
    "                    (M * M.conj()) \n",
    "                M = np.matmul(dictSpPh[i[0]][0,idxHomo,:idxHomo]/elEvalDiff[:idxHomo], dictSpPh[i[1]][1,:idxHomo,idxHomo]) + \\\n",
    "                    np.matmul(dictSpPh[i[0]][1,idxHomo,:idxHomo]/elEvalDiff[:idxHomo], dictSpPh[i[1]][0,:idxHomo,idxHomo])\n",
    "                rate_ea += (2*pi/hbar) * (bose(vibEval[i[0]],t)+1) * (bose(vibEval[i[1]],t)) * gauss(broad,vibEval[i[1]]-vibEval[i[0]] - Ez[0]) * \\\n",
    "                    (M * M.conj()) \n",
    "            t1.append((rate_ea+rate_ae)**-1)\n",
    "        t1_disp.append(t1)\n",
    "#         t1_disp = np.array(t1_disp)\n",
    "    return t1_disp"
   ]
  },
  {
   "cell_type": "code",
   "execution_count": 10,
   "metadata": {},
   "outputs": [],
   "source": [
    "disp=[0.01]\n",
    "delr=[0.3,0.5,1,2,5,10,100]\n",
    "t1_del = []\n",
    "for i in delr:\n",
    "    t1_del.append(calc_t1(disp,i))\n",
    "# t1_del = np.array(t1_del)"
   ]
  },
  {
   "cell_type": "code",
   "execution_count": 11,
   "metadata": {},
   "outputs": [
    {
     "data": {
      "application/vnd.jupyter.widget-view+json": {
       "model_id": "cf1a35cfdbe741139f2333f8036f119e",
       "version_major": 2,
       "version_minor": 0
      },
      "text/plain": [
       "Canvas(toolbar=Toolbar(toolitems=[('Home', 'Reset original view', 'home', 'home'), ('Back', 'Back to previous …"
      ]
     },
     "metadata": {},
     "output_type": "display_data"
    },
    {
     "name": "stderr",
     "output_type": "stream",
     "text": [
      "/home/uday/.local/lib/python3.5/site-packages/matplotlib/axes/_base.py:3507: UserWarning: Attempting to set identical bottom==top results\n",
      "in singular transformations; automatically expanding.\n",
      "bottom=1e-07, top=1e-07\n",
      "  self.set_ylim(upper, lower, auto=None)\n",
      "/home/uday/.local/lib/python3.5/site-packages/numpy/core/_asarray.py:85: ComplexWarning: Casting complex values to real discards the imaginary part\n",
      "  return array(a, dtype, copy=False, order=order)\n"
     ]
    }
   ],
   "source": [
    "%matplotlib widget\n",
    "# for i in range(6):\n",
    "x=[300];y = [1e-7]\n",
    "plt.title(r'DNSS; B = 0.3 T')\n",
    "plt.xlabel(r'Temp [K]')\n",
    "plt.ylabel(r'$T_1$ [s]')\n",
    "# plt.xlim(140,420)\n",
    "# plt.ylim(1e-9,1e3)\n",
    "# exp = np.loadtxt('vopc_exp.txt')\n",
    "plt.semilogy(x,y,'.',label='Exp')\n",
    "\n",
    "for ind, i in enumerate(delr):\n",
    "    plt.semilogy(temp,t1_del[ind][0],'-',label=r'$\\delta=$'+str(i)+r' cm$^{-1}$')\n",
    "    \n",
    "plt.legend()\n",
    "plt.savefig('T1_temp_DNSS.pdf')"
   ]
  },
  {
   "cell_type": "code",
   "execution_count": null,
   "metadata": {},
   "outputs": [],
   "source": []
  }
 ],
 "metadata": {
  "kernelspec": {
   "display_name": "Python 3",
   "language": "python",
   "name": "python3"
  },
  "language_info": {
   "codemirror_mode": {
    "name": "ipython",
    "version": 3
   },
   "file_extension": ".py",
   "mimetype": "text/x-python",
   "name": "python",
   "nbconvert_exporter": "python",
   "pygments_lexer": "ipython3",
   "version": "3.6.9"
  }
 },
 "nbformat": 4,
 "nbformat_minor": 4
}
